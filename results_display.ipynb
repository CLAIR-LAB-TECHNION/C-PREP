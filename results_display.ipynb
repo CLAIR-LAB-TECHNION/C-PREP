{
 "cells": [
  {
   "cell_type": "code",
   "execution_count": null,
   "id": "94145168-07e2-4d19-a904-3fc0e3b6b989",
   "metadata": {},
   "outputs": [],
   "source": [
    "%load_ext autoreload\n",
    "%autoreload 2"
   ]
  },
  {
   "cell_type": "code",
   "execution_count": null,
   "id": "a8a534af-4445-4d22-8c7c-00c887e4da47",
   "metadata": {},
   "outputs": [],
   "source": [
    "from stable_baselines3.common.evaluation import evaluate_policy\n",
    "from stable_baselines3.common.monitor import Monitor\n",
    "\n",
    "from rmrl.experiments.res_handler import ResultsHandler\n",
    "from rmrl.experiments.cv_transfer import CVTransferExperiment\n",
    "from rmrl.experiments.with_transfer import WithTransferExperiment\n",
    "from rmrl.experiments.no_transfer import NoTransferExperiment\n",
    "from rmrl.experiments.configurations import Algos, Mods, ContextSpaces, SupportedEnvironments\n",
    "from rmrl.nn.models import cur_state_embedding, ignore_state_mean, GATConv, GINEConv"
   ]
  },
  {
   "cell_type": "code",
   "execution_count": null,
   "id": "622d0ad8-1964-4a2d-b4a4-8566285f2818",
   "metadata": {},
   "outputs": [],
   "source": [
    "h = ResultsHandler(exp_type=NoTransferExperiment, dump_dir='experiment_dumps')\n",
    "print(f'num completed experimets:    {len(h.exp_path_dict)}')\n",
    "print(f'num incomplete expereimtnes: {len(h.incomplete_experiments)}')\n",
    "print(f'num failed experiments:      {len(h.failed_experiments)}')"
   ]
  },
  {
   "cell_type": "code",
   "execution_count": null,
   "id": "72cee260-38fd-4a24-b65d-5a3824e7faaa",
   "metadata": {},
   "outputs": [],
   "source": [
    "constraint=[\n",
    "    dict(\n",
    "        cspace=ContextSpaces.FIXED_ENTITIES,\n",
    "        env=SupportedEnvironments.SMALL_GN,\n",
    "    ),\n",
    "]\n",
    "\n",
    "h.print_experiments(\n",
    "    exp_agg_type='seed',\n",
    "    cfg_constraints=constraint\n",
    ")"
   ]
  },
  {
   "cell_type": "code",
   "execution_count": null,
   "id": "e7b8f8a1-1158-41ec-8428-47fc678435f5",
   "metadata": {},
   "outputs": [],
   "source": [
    "h.plot_experiments_eval(\n",
    "    experiments_idx=None,\n",
    "    plot_kwargs_per_idx=[\n",
    "        dict(label=\"MF\"),\n",
    "        dict(label=\"AS+RS\"),\n",
    "        dict(label=\"RS\"),\n",
    "    ],\n",
    "    cfg_constraints=constraint,\n",
    "    exp_agg_type='seed',\n",
    "    record_median=False,\n",
    "    record_returns=True,\n",
    "    with_deviation=False,\n",
    "    src_xlim=(0, None),\n",
    "    tgt_xlim=None,\n",
    "    l_bound=0,\n",
    "    u_bound=1,\n",
    "    show_src_scratch=True,\n",
    "    show_tgt_scratch=True,\n",
    "    show_tgt_transfer=True,\n",
    ")"
   ]
  },
  {
   "cell_type": "code",
   "execution_count": null,
   "id": "f4168019-8f97-4c1c-a645-4e1aa39c6bdc",
   "metadata": {},
   "outputs": [],
   "source": [
    "exp_num = 2753\n",
    "\n",
    "(src_context, src_train_env, src_eval_env, src_agent,\n",
    "                tgt_context, tgt_train_env, tgt_eval_env, tgt_agent,\n",
    "                tsf_agent) = h.get_experiment_contexts_envs_and_agents(exp_num)"
   ]
  },
  {
   "cell_type": "code",
   "execution_count": null,
   "id": "b02842c9-5a13-46ea-a6f0-982cddae774f",
   "metadata": {},
   "outputs": [],
   "source": [
    "src_train_env.reset()\n",
    "src_train_env.render()"
   ]
  }
 ],
 "metadata": {
  "kernelspec": {
   "display_name": "Python 3 (ipykernel)",
   "language": "python",
   "name": "python3"
  },
  "language_info": {
   "codemirror_mode": {
    "name": "ipython",
    "version": 3
   },
   "file_extension": ".py",
   "mimetype": "text/x-python",
   "name": "python",
   "nbconvert_exporter": "python",
   "pygments_lexer": "ipython3",
   "version": "3.9.15"
  }
 },
 "nbformat": 4,
 "nbformat_minor": 5
}
