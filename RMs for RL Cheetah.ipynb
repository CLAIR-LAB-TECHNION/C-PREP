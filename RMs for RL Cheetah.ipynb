{
 "cells": [
  {
   "cell_type": "markdown",
   "metadata": {},
   "source": [
    "# RMs for RL"
   ]
  },
  {
   "cell_type": "markdown",
   "metadata": {},
   "source": [
    "$$\n",
    "\\newcommand{\\tuple}[1]{\\left\\langle #1 \\right\\rangle}\n",
    "\\newcommand{\\StateSpace}[0]{\\mathcal{S}}\n",
    "\\newcommand{\\ActionSpace}[0]{\\mathcal{A}}\n",
    "\\newcommand{\\SAS}[0]{\\StateSpace\\times\\ActionSpace\\times\\StateSpace}\n",
    "\\newcommand{\\ContextSpace}[0]{\\mathcal{C}}\n",
    "\\newcommand{\\MDPFunc}[0]{\\mathcal{M}}\n",
    "\\newcommand{\\CMDP}[0]{\\tuple{\\ContextSpace, \\StateSpace, \\ActionSpace, \\MDPFunc}}\n",
    "\\newcommand{\\MDPInContext}[1]{\\tuple{\\StateSpace, \\ActionSpace, p^{#1}, r^{#1}, \\gamma}}\n",
    "\\newcommand{\\propsym}[0]{\\mathcal{P}}\n",
    "\\newcommand{\\RM}[0]{\\tuple{\\propsym, U, \\delta_u, \\delta_r}}\n",
    "\\newcommand{\\RMsym}[0]{\\mathcal{R}}\n",
    "\\newcommand{\\MDPRM}[0]{\\tuple{\\StateSpace , \\ActionSpace, p,\\gamma,\\propsym, L, U, \\delta_u, \\delta_r}}\n",
    "\\newcommand{\\argmax}[1]{\\underset{#1}{\\operatorname{argmax}}}\n",
    "$$\n",
    "\n",
    "## Problem Formulation\n",
    "\n",
    "Let $X = \\CMDP$ be a CMDP and let $\\Psi$ be the distribution over $\\ContextSpace$. Let $f$ be a parameterized function, called the _adaptation function_, that takes trajectories and outputs adapted parameters. Denote by $\\tau_c^{1:K}$ a collection of $K$ trajectories collected within context $c\\in\\ContextSpace$. We would like to find meta parameters $\\theta^*$ such that sampling few trajectories from parameterized policy $\\pi_\\theta $ and adapting $\\theta$ to $\\phi = f_\\theta(\\tau_c^{1:K})$ maximizes $\\pi_\\phi$'s return over $c\\sim\\Psi$. More formally, we would like to find:\n",
    "\\begin{equation}\n",
    "    \\theta^*\\in\\argmax{\\theta}\\mathbb{E}_{c\\sim\\Psi}\\left[J_c(\\pi_\\phi)\\middle|\\phi = f_\\theta(\\tau_c^{1:K}), \\tau_c^{1:K}\\sim\\pi_\\theta\\right]\n",
    "\\end{equation}\n",
    "with the smallest $K$ possible. We measure performance using the \"time to threshold\" metric, that measures the number of samples/trajectories collected in order to achieve some threshold accumulated rewards."
   ]
  },
  {
   "cell_type": "markdown",
   "metadata": {},
   "source": [
    "## Method\n",
    "![GNN RM usage](images/GNN_RM_usage.png)"
   ]
  },
  {
   "cell_type": "markdown",
   "metadata": {},
   "source": [
    "## Imports and notebook utils"
   ]
  },
  {
   "cell_type": "code",
   "execution_count": 1,
   "metadata": {
    "collapsed": false,
    "jupyter": {
     "outputs_hidden": false
    },
    "pycharm": {
     "name": "#%%\n"
    }
   },
   "outputs": [
    {
     "name": "stderr",
     "output_type": "stream",
     "text": [
      "/usr/local/Caskroom/miniconda/base/envs/rmrl/lib/python3.9/site-packages/torch/utils/tensorboard/__init__.py:4: DeprecationWarning: distutils Version classes are deprecated. Use packaging.version instead.\n",
      "  if not hasattr(tensorboard, '__version__') or LooseVersion(tensorboard.__version__) < LooseVersion('1.15'):\n"
     ]
    }
   ],
   "source": [
    "%load_ext tensorboard\n",
    "%load_ext autoreload\n",
    "%autoreload 2\n",
    "\n",
    "from pathlib import Path\n",
    "\n",
    "from rmrl.reward_machines.rm_env import RMEnvWrapper\n",
    "from rmrl.envs.multitask_env import MultiTaskWrapper\n",
    "from rmrl.envs.mujoco.half_cheetah import velocity_env\n",
    "from rmrl.envs.mujoco.reward_machines.half_cheetah import VelocityRM\n",
    "from rmrl.reward_machines.potential_functions import ValueIteration\n",
    "from rmrl.nn.models import RMFeatureExtractorSB\n",
    "\n",
    "from stable_baselines3 import DDPG\n",
    "\n",
    "MODELS_DIR = Path('./models')\n",
    "LOGS_DIR = Path('./logs')\n",
    "TB_DIR = LOGS_DIR / 'tensorboard'\n",
    "\n",
    "\n",
    "RS_GAMMA = 0.9\n",
    "MAX_ITERS = 1000"
   ]
  },
  {
   "cell_type": "code",
   "execution_count": 2,
   "metadata": {},
   "outputs": [],
   "source": [
    "def get_ddpg_trained_model(name, policy, env, timesteps):\n",
    "    model = DDPG(policy=policy,\n",
    "                 env=env,\n",
    "                 verbose=1,\n",
    "                 tensorboard_log=TB_DIR / name)\n",
    "    # load model if exists\n",
    "    try:\n",
    "        print('loading pre-trained model')\n",
    "        return model.load(MODELS_DIR / name, model.env)\n",
    "    except FileNotFoundError:\n",
    "        print('pre-trained model not found. training model')\n",
    "        train_model(model, timesteps)\n",
    "        model.save(MODELS_DIR / name)\n",
    "        return model\n",
    "\n",
    "def train_model(model, timesteps):\n",
    "    try:\n",
    "        iter(timesteps)\n",
    "    except TypeError:\n",
    "        timesteps = [timesteps]\n",
    "\n",
    "    for i, ts in enumerate(timesteps, 1):\n",
    "        print(f'run number {i}. {ts} timesteps')\n",
    "        model.learn(total_timesteps=ts,\n",
    "                    tb_log_name=f'run{i}',  # number the run logs\n",
    "                    reset_num_timesteps=False)  # continue the same curve\n",
    "\n",
    "def animate_env(model, num_iters=MAX_ITERS):\n",
    "    env = model.env\n",
    "    try:\n",
    "        obs = env.reset()\n",
    "        for i in range(num_iters):\n",
    "            action, _state = model.predict(obs, deterministic=True)\n",
    "            obs, reward, done, info = env.step(action)\n",
    "            env.render()\n",
    "            if done:\n",
    "                obs = env.reset()\n",
    "    except KeyboardInterrupt:\n",
    "        print('Early stop by user')\n",
    "    finally:\n",
    "        env.close()"
   ]
  },
  {
   "cell_type": "markdown",
   "metadata": {},
   "source": [
    "## Original cheetah env (move forward)"
   ]
  },
  {
   "cell_type": "code",
   "execution_count": 3,
   "metadata": {},
   "outputs": [
    {
     "name": "stdout",
     "output_type": "stream",
     "text": [
      "Using cpu device\n",
      "Creating environment from the given name 'HalfCheetah-v4'\n",
      "Wrapping the env with a `Monitor` wrapper\n",
      "Wrapping the env in a DummyVecEnv.\n",
      "loading pre-trained model\n"
     ]
    },
    {
     "name": "stderr",
     "output_type": "stream",
     "text": [
      "/usr/local/Caskroom/miniconda/base/envs/rmrl/lib/python3.9/site-packages/gym/utils/passive_env_checker.py:69: UserWarning: \u001b[33mWARN: Agent's minimum action space value is -infinity. This is probably too low.\u001b[0m\n",
      "  logger.warn(\n",
      "/usr/local/Caskroom/miniconda/base/envs/rmrl/lib/python3.9/site-packages/gym/utils/passive_env_checker.py:73: UserWarning: \u001b[33mWARN: Agent's maximum action space value is infinity. This is probably too high\u001b[0m\n",
      "  logger.warn(\n",
      "/usr/local/Caskroom/miniconda/base/envs/rmrl/lib/python3.9/site-packages/gym/utils/passive_env_checker.py:97: UserWarning: \u001b[33mWARN: We recommend you to use a symmetric and normalized Box action space (range=[-1, 1]) https://stable-baselines3.readthedocs.io/en/master/guide/rl_tips.html\u001b[0m\n",
      "  logger.warn(\n"
     ]
    }
   ],
   "source": [
    "model_fw = get_ddpg_trained_model('ddpg_cheetah_fw',\n",
    "                                  'MlpPolicy',\n",
    "                                  'HalfCheetah-v4',\n",
    "                                  timesteps=[1e4] * 4)  # 4 rounds of 10,000"
   ]
  },
  {
   "cell_type": "code",
   "execution_count": 4,
   "metadata": {},
   "outputs": [
    {
     "data": {
      "text/html": [
       "\n",
       "      <iframe id=\"tensorboard-frame-4cce6d7006c0f810\" width=\"100%\" height=\"800\" frameborder=\"0\">\n",
       "      </iframe>\n",
       "      <script>\n",
       "        (function() {\n",
       "          const frame = document.getElementById(\"tensorboard-frame-4cce6d7006c0f810\");\n",
       "          const url = new URL(\"/\", window.location);\n",
       "          const port = 6006;\n",
       "          if (port) {\n",
       "            url.port = port;\n",
       "          }\n",
       "          frame.src = url;\n",
       "        })();\n",
       "      </script>\n",
       "    "
      ],
      "text/plain": [
       "<IPython.core.display.HTML object>"
      ]
     },
     "metadata": {},
     "output_type": "display_data"
    }
   ],
   "source": [
    "%tensorboard --logdir ./logs/tensorboard/ddpg_cheetah_fw"
   ]
  },
  {
   "cell_type": "code",
   "execution_count": 5,
   "metadata": {},
   "outputs": [
    {
     "ename": "SystemExit",
     "evalue": "0",
     "output_type": "error",
     "traceback": [
      "An exception has occurred, use %tb to see the full traceback.\n",
      "\u001b[0;31mSystemExit\u001b[0m\u001b[0;31m:\u001b[0m 0\n"
     ]
    },
    {
     "name": "stderr",
     "output_type": "stream",
     "text": [
      "/usr/local/Caskroom/miniconda/base/envs/rmrl/lib/python3.9/site-packages/IPython/core/interactiveshell.py:3406: UserWarning: To exit: use 'exit', 'quit', or Ctrl-D.\n",
      "  warn(\"To exit: use 'exit', 'quit', or Ctrl-D.\", stacklevel=1)\n"
     ]
    }
   ],
   "source": [
    "animate_env(model_fw)"
   ]
  },
  {
   "cell_type": "markdown",
   "metadata": {},
   "source": [
    "## Fixed velocity (5.0) cheetah env"
   ]
  },
  {
   "cell_type": "code",
   "execution_count": 7,
   "metadata": {},
   "outputs": [
    {
     "name": "stdout",
     "output_type": "stream",
     "text": [
      "goal velocity is: 5.0\n",
      "fixed goal\n"
     ]
    },
    {
     "name": "stderr",
     "output_type": "stream",
     "text": [
      "/usr/local/Caskroom/miniconda/base/envs/rmrl/lib/python3.9/site-packages/gym/utils/passive_env_checker.py:69: UserWarning: \u001b[33mWARN: Agent's minimum action space value is -infinity. This is probably too low.\u001b[0m\n",
      "  logger.warn(\n",
      "/usr/local/Caskroom/miniconda/base/envs/rmrl/lib/python3.9/site-packages/gym/utils/passive_env_checker.py:73: UserWarning: \u001b[33mWARN: Agent's maximum action space value is infinity. This is probably too high\u001b[0m\n",
      "  logger.warn(\n",
      "/usr/local/Caskroom/miniconda/base/envs/rmrl/lib/python3.9/site-packages/gym/utils/passive_env_checker.py:97: UserWarning: \u001b[33mWARN: We recommend you to use a symmetric and normalized Box action space (range=[-1, 1]) https://stable-baselines3.readthedocs.io/en/master/guide/rl_tips.html\u001b[0m\n",
      "  logger.warn(\n"
     ]
    }
   ],
   "source": [
    "fixed_vel_env = velocity_env(initial_goal_vel=5.0, change_task_on_reset=False)\n",
    "fixed_vel_env.reset()\n",
    "print(f'goal velocity is: {fixed_vel_env.task}')\n",
    "print('goal changes on reset' if fixed_vel_env.change_task_on_reset else 'fixed goal')"
   ]
  },
  {
   "cell_type": "code",
   "execution_count": 8,
   "metadata": {},
   "outputs": [
    {
     "name": "stdout",
     "output_type": "stream",
     "text": [
      "Using cpu device\n",
      "Wrapping the env with a `Monitor` wrapper\n",
      "Wrapping the env in a DummyVecEnv.\n",
      "loading pre-trained model\n",
      "pre-trained model not found. training model\n",
      "run number 1. 10000.0 timesteps\n",
      "Logging to logs/tensorboard/ddpg_cheetah_vel5/run1_0\n",
      "----------------------------------\n",
      "| rollout/           |           |\n",
      "|    ep_len_mean     | 1e+03     |\n",
      "|    ep_rew_mean     | -5.31e+03 |\n",
      "| time/              |           |\n",
      "|    episodes        | 4         |\n",
      "|    fps             | 121       |\n",
      "|    time_elapsed    | 33        |\n",
      "|    total timesteps | 4000      |\n",
      "| train/             |           |\n",
      "|    actor_loss      | 32.2      |\n",
      "|    critic_loss     | 1.19      |\n",
      "|    learning_rate   | 0.001     |\n",
      "|    n_updates       | 3000      |\n",
      "----------------------------------\n",
      "----------------------------------\n",
      "| rollout/           |           |\n",
      "|    ep_len_mean     | 1e+03     |\n",
      "|    ep_rew_mean     | -5.37e+03 |\n",
      "| time/              |           |\n",
      "|    episodes        | 8         |\n",
      "|    fps             | 102       |\n",
      "|    time_elapsed    | 77        |\n",
      "|    total timesteps | 8000      |\n",
      "| train/             |           |\n",
      "|    actor_loss      | 73.3      |\n",
      "|    critic_loss     | 1.35      |\n",
      "|    learning_rate   | 0.001     |\n",
      "|    n_updates       | 7000      |\n",
      "----------------------------------\n",
      "run number 2. 10000.0 timesteps\n",
      "Logging to logs/tensorboard/ddpg_cheetah_vel5/run2_0\n",
      "----------------------------------\n",
      "| rollout/           |           |\n",
      "|    ep_len_mean     | 1e+03     |\n",
      "|    ep_rew_mean     | -5.34e+03 |\n",
      "| time/              |           |\n",
      "|    episodes        | 12        |\n",
      "|    fps             | 1037      |\n",
      "|    time_elapsed    | 11        |\n",
      "|    total timesteps | 12000     |\n",
      "| train/             |           |\n",
      "|    actor_loss      | 113       |\n",
      "|    critic_loss     | 3.9       |\n",
      "|    learning_rate   | 0.001     |\n",
      "|    n_updates       | 11000     |\n",
      "----------------------------------\n",
      "----------------------------------\n",
      "| rollout/           |           |\n",
      "|    ep_len_mean     | 1e+03     |\n",
      "|    ep_rew_mean     | -5.27e+03 |\n",
      "| time/              |           |\n",
      "|    episodes        | 16        |\n",
      "|    fps             | 288       |\n",
      "|    time_elapsed    | 55        |\n",
      "|    total timesteps | 16000     |\n",
      "| train/             |           |\n",
      "|    actor_loss      | 144       |\n",
      "|    critic_loss     | 2.99      |\n",
      "|    learning_rate   | 0.001     |\n",
      "|    n_updates       | 15000     |\n",
      "----------------------------------\n",
      "----------------------------------\n",
      "| rollout/           |           |\n",
      "|    ep_len_mean     | 1e+03     |\n",
      "|    ep_rew_mean     | -5.27e+03 |\n",
      "| time/              |           |\n",
      "|    episodes        | 20        |\n",
      "|    fps             | 200       |\n",
      "|    time_elapsed    | 99        |\n",
      "|    total timesteps | 20000     |\n",
      "| train/             |           |\n",
      "|    actor_loss      | 180       |\n",
      "|    critic_loss     | 2.87      |\n",
      "|    learning_rate   | 0.001     |\n",
      "|    n_updates       | 19000     |\n",
      "----------------------------------\n",
      "run number 3. 10000.0 timesteps\n",
      "Logging to logs/tensorboard/ddpg_cheetah_vel5/run3_0\n",
      "----------------------------------\n",
      "| rollout/           |           |\n",
      "|    ep_len_mean     | 1e+03     |\n",
      "|    ep_rew_mean     | -5.26e+03 |\n",
      "| time/              |           |\n",
      "|    episodes        | 24        |\n",
      "|    fps             | 722       |\n",
      "|    time_elapsed    | 33        |\n",
      "|    total timesteps | 24000     |\n",
      "| train/             |           |\n",
      "|    actor_loss      | 218       |\n",
      "|    critic_loss     | 3.09      |\n",
      "|    learning_rate   | 0.001     |\n",
      "|    n_updates       | 23000     |\n",
      "----------------------------------\n",
      "----------------------------------\n",
      "| rollout/           |           |\n",
      "|    ep_len_mean     | 1e+03     |\n",
      "|    ep_rew_mean     | -5.25e+03 |\n",
      "| time/              |           |\n",
      "|    episodes        | 28        |\n",
      "|    fps             | 364       |\n",
      "|    time_elapsed    | 76        |\n",
      "|    total timesteps | 28000     |\n",
      "| train/             |           |\n",
      "|    actor_loss      | 249       |\n",
      "|    critic_loss     | 3.11      |\n",
      "|    learning_rate   | 0.001     |\n",
      "|    n_updates       | 27000     |\n",
      "----------------------------------\n",
      "run number 4. 10000.0 timesteps\n",
      "Logging to logs/tensorboard/ddpg_cheetah_vel5/run4_0\n",
      "----------------------------------\n",
      "| rollout/           |           |\n",
      "|    ep_len_mean     | 1e+03     |\n",
      "|    ep_rew_mean     | -5.23e+03 |\n",
      "| time/              |           |\n",
      "|    episodes        | 32        |\n",
      "|    fps             | 2795      |\n",
      "|    time_elapsed    | 11        |\n",
      "|    total timesteps | 32000     |\n",
      "| train/             |           |\n",
      "|    actor_loss      | 279       |\n",
      "|    critic_loss     | 2.8       |\n",
      "|    learning_rate   | 0.001     |\n",
      "|    n_updates       | 31000     |\n",
      "----------------------------------\n",
      "----------------------------------\n",
      "| rollout/           |           |\n",
      "|    ep_len_mean     | 1e+03     |\n",
      "|    ep_rew_mean     | -5.21e+03 |\n",
      "| time/              |           |\n",
      "|    episodes        | 36        |\n",
      "|    fps             | 654       |\n",
      "|    time_elapsed    | 55        |\n",
      "|    total timesteps | 36000     |\n",
      "| train/             |           |\n",
      "|    actor_loss      | 304       |\n",
      "|    critic_loss     | 2.71      |\n",
      "|    learning_rate   | 0.001     |\n",
      "|    n_updates       | 35000     |\n",
      "----------------------------------\n",
      "----------------------------------\n",
      "| rollout/           |           |\n",
      "|    ep_len_mean     | 1e+03     |\n",
      "|    ep_rew_mean     | -5.19e+03 |\n",
      "| time/              |           |\n",
      "|    episodes        | 40        |\n",
      "|    fps             | 402       |\n",
      "|    time_elapsed    | 99        |\n",
      "|    total timesteps | 40000     |\n",
      "| train/             |           |\n",
      "|    actor_loss      | 328       |\n",
      "|    critic_loss     | 2.7       |\n",
      "|    learning_rate   | 0.001     |\n",
      "|    n_updates       | 39000     |\n",
      "----------------------------------\n"
     ]
    }
   ],
   "source": [
    "model_vel5 = get_ddpg_trained_model('ddpg_cheetah_vel5',\n",
    "                                    'MlpPolicy',\n",
    "                                    fixed_vel_env,\n",
    "                                    timesteps=[1e4] * 4)  # 4 rounds of 10,000"
   ]
  },
  {
   "cell_type": "code",
   "execution_count": 9,
   "metadata": {},
   "outputs": [
    {
     "data": {
      "text/html": [
       "\n",
       "      <iframe id=\"tensorboard-frame-1d63f11d2a58769e\" width=\"100%\" height=\"800\" frameborder=\"0\">\n",
       "      </iframe>\n",
       "      <script>\n",
       "        (function() {\n",
       "          const frame = document.getElementById(\"tensorboard-frame-1d63f11d2a58769e\");\n",
       "          const url = new URL(\"/\", window.location);\n",
       "          const port = 6007;\n",
       "          if (port) {\n",
       "            url.port = port;\n",
       "          }\n",
       "          frame.src = url;\n",
       "        })();\n",
       "      </script>\n",
       "    "
      ],
      "text/plain": [
       "<IPython.core.display.HTML object>"
      ]
     },
     "metadata": {},
     "output_type": "display_data"
    }
   ],
   "source": [
    "%tensorboard --logdir ./logs/tensorboard/ddpg_cheetah_vel5"
   ]
  },
  {
   "cell_type": "code",
   "execution_count": 10,
   "metadata": {},
   "outputs": [
    {
     "ename": "SystemExit",
     "evalue": "0",
     "output_type": "error",
     "traceback": [
      "An exception has occurred, use %tb to see the full traceback.\n",
      "\u001b[0;31mSystemExit\u001b[0m\u001b[0;31m:\u001b[0m 0\n"
     ]
    },
    {
     "name": "stderr",
     "output_type": "stream",
     "text": [
      "/usr/local/Caskroom/miniconda/base/envs/rmrl/lib/python3.9/site-packages/IPython/core/interactiveshell.py:3406: UserWarning: To exit: use 'exit', 'quit', or Ctrl-D.\n",
      "  warn(\"To exit: use 'exit', 'quit', or Ctrl-D.\", stacklevel=1)\n"
     ]
    }
   ],
   "source": [
    "animate_env(model_vel5)"
   ]
  },
  {
   "cell_type": "markdown",
   "metadata": {},
   "source": [
    "## RM cheetah env"
   ]
  },
  {
   "cell_type": "code",
   "execution_count": 11,
   "metadata": {},
   "outputs": [],
   "source": [
    "# function to create RMs in env wrapper\n",
    "potential_fn = ValueIteration()\n",
    "def rm_fn(task_env: MultiTaskWrapper):\n",
    "    rm = VelocityRM(task_env.task)\n",
    "    rm.reshape_rewards(potential_fn(rm, RS_GAMMA), gamma=RS_GAMMA)\n",
    "    return [rm]"
   ]
  },
  {
   "cell_type": "code",
   "execution_count": 12,
   "metadata": {},
   "outputs": [
    {
     "name": "stderr",
     "output_type": "stream",
     "text": [
      "/Users/guyazran/Desktop/School/Master/Thesis/Sarah Keren/Research/code/RM-RL/rmrl/reward_machines/reward_machine.py:77: DeprecationWarning: `np.float` is a deprecated alias for the builtin `float`. To silence this warning, use `float` by itself. Doing this will not modify any behavior and is safe. If you specifically wanted the numpy scalar type, use `np.float64` here.\n",
      "Deprecated in NumPy 1.20; for more details and guidance: https://numpy.org/devdocs/release/1.20.0-notes.html#deprecations\n",
      "  return np.isin(self.P, props).astype(np.float).tolist()\n"
     ]
    }
   ],
   "source": [
    "fixed_vel_env_rs = RMEnvWrapper(fixed_vel_env, rm_fn,\n",
    "                                rm_observations=False,\n",
    "                                change_rms_on_reset=False)  # fixed task. no need to reset RM"
   ]
  },
  {
   "cell_type": "markdown",
   "metadata": {},
   "source": [
    "A quick demo of the internal env reward machine and reward shaping"
   ]
  },
  {
   "cell_type": "code",
   "execution_count": 13,
   "metadata": {},
   "outputs": [
    {
     "data": {
      "text/plain": [
       "(array([-0.02463765,  0.01681699,  0.08506296, -0.00620499, -0.00800047,\n",
       "         0.00900121,  0.00466257, -0.02324699,  0.00654387,  0.00670829,\n",
       "        -0.43874071, -0.11814249,  0.20740644,  0.78727513, -0.55488654,\n",
       "        -0.73871479,  1.64448715, -0.41886361]),\n",
       " -0.590489910185501,\n",
       " False,\n",
       " {'x_position': -0.024637652801506586,\n",
       "  'x_velocity': 0.0027808132081523496,\n",
       "  'reward_run': 0.0027808132081523496,\n",
       "  'reward_ctrl': -0.0,\n",
       "  'reward_vel': -4.997219186791848,\n",
       "  'no-rm_reward': -4.997219186791848,\n",
       "  'rm0_reward': -0.590489910185501,\n",
       "  'rm0_propositions': ['0']})"
      ]
     },
     "execution_count": 13,
     "metadata": {},
     "output_type": "execute_result"
    }
   ],
   "source": [
    "import numpy as np\n",
    "fixed_vel_env_rs.reset()\n",
    "fixed_vel_env_rs.step(np.array([0, 0, 0, 0, 0, 0]))"
   ]
  },
  {
   "cell_type": "code",
   "execution_count": 14,
   "metadata": {},
   "outputs": [
    {
     "name": "stdout",
     "output_type": "stream",
     "text": [
      "goal velocity: 5.0\n"
     ]
    },
    {
     "data": {
      "image/png": "[encoded data removed]",
      "text/plain": [
       "<Figure size 1152x230.4 with 1 Axes>"
      ]
     },
     "metadata": {},
     "output_type": "display_data"
    },
    {
     "data": {
      "text/plain": [
       "(7, -1.709999910185501)"
      ]
     },
     "execution_count": 14,
     "metadata": {},
     "output_type": "execute_result"
    }
   ],
   "source": [
    "print(f'goal velocity: {fixed_vel_env_rs.task}')\n",
    "fixed_vel_env_rs.rms[0].draw()\n",
    "fixed_vel_env_rs.rms[0].delta(8, ['75%'])"
   ]
  },
  {
   "cell_type": "code",
   "execution_count": 15,
   "metadata": {},
   "outputs": [],
   "source": [
    "rm = fixed_vel_env_rs.rms[0]\n",
    "rm.reset_rewards()"
   ]
  },
  {
   "cell_type": "code",
   "execution_count": 16,
   "metadata": {},
   "outputs": [
    {
     "name": "stdout",
     "output_type": "stream",
     "text": [
      "0 {1: {'r': 0}, 0: {'r': 0}}\n",
      "\n",
      "1 {2: {'r': 0}, 0: {'r': 0}, 1: {'r': 0}}\n",
      "\n",
      "7 {8: {'r': 0}, 6: {'r': 0}, 7: {'r': 0}}\n",
      "\n",
      "8 {9: {'r': 0}, 7: {'r': 0}, 8: {'r': 0}}\n",
      "\n",
      "9 {10: {'r': 0}, 8: {'r': 0}, 9: {'r': 1}}\n",
      "\n",
      "10 {9: {'r': 0}, 10: {'r': 0}}\n"
     ]
    }
   ],
   "source": [
    "print(0, rm.G[0])\n",
    "print()\n",
    "print(1, rm.G[1])\n",
    "print()\n",
    "print(7, rm.G[7])\n",
    "print()\n",
    "print(8, rm.G[8])\n",
    "print()\n",
    "print(9, rm.G[9])\n",
    "print()\n",
    "print(10, rm.G[10])"
   ]
  },
  {
   "cell_type": "code",
   "execution_count": 17,
   "metadata": {},
   "outputs": [
    {
     "data": {
      "text/plain": [
       "{0: 3.8742039918550075,\n",
       " 1: 4.304671201855009,\n",
       " 2: 4.782968101855007,\n",
       " 3: 5.3144091018550075,\n",
       " 4: 5.904899101855009,\n",
       " 5: 6.560999101855009,\n",
       " 6: 7.28999910185501,\n",
       " 7: 8.09999910185501,\n",
       " 8: 8.99999910185501,\n",
       " 9: 9.99999910185501,\n",
       " 10: 8.99999910185501}"
      ]
     },
     "execution_count": 17,
     "metadata": {},
     "output_type": "execute_result"
    }
   ],
   "source": [
    "pots = potential_fn(rm, RS_GAMMA)\n",
    "pots"
   ]
  },
  {
   "cell_type": "code",
   "execution_count": 18,
   "metadata": {},
   "outputs": [],
   "source": [
    "rm.reshape_rewards(pots, RS_GAMMA)"
   ]
  },
  {
   "cell_type": "code",
   "execution_count": 19,
   "metadata": {},
   "outputs": [
    {
     "name": "stdout",
     "output_type": "stream",
     "text": [
      "0 {1: {'r': 8.981450072553798e-08}, 0: {'r': -0.38742039918550075}}\n",
      "\n",
      "1 {2: {'r': 8.981449806100272e-08}, 0: {'r': -0.8178876091855023}, 1: {'r': -0.4304671201855008}}\n",
      "\n",
      "7 {8: {'r': 8.981449894918114e-08}, 6: {'r': -1.5389999101855016}, 7: {'r': -0.8099999101855007}}\n",
      "\n",
      "8 {9: {'r': 8.981449894918114e-08}, 7: {'r': -1.709999910185501}, 8: {'r': -0.8999999101855014}}\n",
      "\n",
      "9 {10: {'r': -1.8999999101855014}, 8: {'r': -1.8999999101855014}, 9: {'r': 8.981449894918114e-08}}\n",
      "\n",
      "10 {9: {'r': 8.981449894918114e-08}, 10: {'r': -0.8999999101855014}}\n"
     ]
    }
   ],
   "source": [
    "print(0, rm.G[0])\n",
    "print()\n",
    "print(1, rm.G[1])\n",
    "print()\n",
    "print(7, rm.G[7])\n",
    "print()\n",
    "print(8, rm.G[8])\n",
    "print()\n",
    "print(9, rm.G[9])\n",
    "print()\n",
    "print(10, rm.G[10])"
   ]
  },
  {
   "cell_type": "markdown",
   "metadata": {},
   "source": [
    "Back to training models"
   ]
  },
  {
   "cell_type": "code",
   "execution_count": 20,
   "metadata": {},
   "outputs": [
    {
     "name": "stdout",
     "output_type": "stream",
     "text": [
      "Using cpu device\n",
      "Wrapping the env with a `Monitor` wrapper\n",
      "Wrapping the env in a DummyVecEnv.\n",
      "loading pre-trained model\n",
      "pre-trained model not found. training model\n",
      "run number 1. 10000.0 timesteps\n",
      "Logging to logs/tensorboard/ddpg_cheetah_vel5_rs/run1_0\n",
      "---------------------------------\n",
      "| rollout/           |          |\n",
      "|    ep_len_mean     | 1e+03    |\n",
      "|    ep_rew_mean     | -590     |\n",
      "| time/              |          |\n",
      "|    episodes        | 4        |\n",
      "|    fps             | 120      |\n",
      "|    time_elapsed    | 33       |\n",
      "|    total timesteps | 4000     |\n",
      "| train/             |          |\n",
      "|    actor_loss      | 3.91     |\n",
      "|    critic_loss     | 0.0207   |\n",
      "|    learning_rate   | 0.001    |\n",
      "|    n_updates       | 3000     |\n",
      "---------------------------------\n",
      "---------------------------------\n",
      "| rollout/           |          |\n",
      "|    ep_len_mean     | 1e+03    |\n",
      "|    ep_rew_mean     | -590     |\n",
      "| time/              |          |\n",
      "|    episodes        | 8        |\n",
      "|    fps             | 103      |\n",
      "|    time_elapsed    | 77       |\n",
      "|    total timesteps | 8000     |\n",
      "| train/             |          |\n",
      "|    actor_loss      | 6.53     |\n",
      "|    critic_loss     | 0.0205   |\n",
      "|    learning_rate   | 0.001    |\n",
      "|    n_updates       | 7000     |\n",
      "---------------------------------\n",
      "run number 2. 10000.0 timesteps\n",
      "Logging to logs/tensorboard/ddpg_cheetah_vel5_rs/run2_0\n",
      "---------------------------------\n",
      "| rollout/           |          |\n",
      "|    ep_len_mean     | 1e+03    |\n",
      "|    ep_rew_mean     | -590     |\n",
      "| time/              |          |\n",
      "|    episodes        | 12       |\n",
      "|    fps             | 1032     |\n",
      "|    time_elapsed    | 11       |\n",
      "|    total timesteps | 12000    |\n",
      "| train/             |          |\n",
      "|    actor_loss      | 10.5     |\n",
      "|    critic_loss     | 0.0218   |\n",
      "|    learning_rate   | 0.001    |\n",
      "|    n_updates       | 11000    |\n",
      "---------------------------------\n",
      "---------------------------------\n",
      "| rollout/           |          |\n",
      "|    ep_len_mean     | 1e+03    |\n",
      "|    ep_rew_mean     | -590     |\n",
      "| time/              |          |\n",
      "|    episodes        | 16       |\n",
      "|    fps             | 288      |\n",
      "|    time_elapsed    | 55       |\n",
      "|    total timesteps | 16000    |\n",
      "| train/             |          |\n",
      "|    actor_loss      | 14.6     |\n",
      "|    critic_loss     | 0.0322   |\n",
      "|    learning_rate   | 0.001    |\n",
      "|    n_updates       | 15000    |\n",
      "---------------------------------\n",
      "---------------------------------\n",
      "| rollout/           |          |\n",
      "|    ep_len_mean     | 1e+03    |\n",
      "|    ep_rew_mean     | -590     |\n",
      "| time/              |          |\n",
      "|    episodes        | 20       |\n",
      "|    fps             | 200      |\n",
      "|    time_elapsed    | 99       |\n",
      "|    total timesteps | 20000    |\n",
      "| train/             |          |\n",
      "|    actor_loss      | 19.2     |\n",
      "|    critic_loss     | 0.0392   |\n",
      "|    learning_rate   | 0.001    |\n",
      "|    n_updates       | 19000    |\n",
      "---------------------------------\n",
      "run number 3. 10000.0 timesteps\n",
      "Logging to logs/tensorboard/ddpg_cheetah_vel5_rs/run3_0\n",
      "---------------------------------\n",
      "| rollout/           |          |\n",
      "|    ep_len_mean     | 1e+03    |\n",
      "|    ep_rew_mean     | -590     |\n",
      "| time/              |          |\n",
      "|    episodes        | 24       |\n",
      "|    fps             | 699      |\n",
      "|    time_elapsed    | 34       |\n",
      "|    total timesteps | 24000    |\n",
      "| train/             |          |\n",
      "|    actor_loss      | 23.5     |\n",
      "|    critic_loss     | 0.0406   |\n",
      "|    learning_rate   | 0.001    |\n",
      "|    n_updates       | 23000    |\n",
      "---------------------------------\n",
      "---------------------------------\n",
      "| rollout/           |          |\n",
      "|    ep_len_mean     | 1e+03    |\n",
      "|    ep_rew_mean     | -590     |\n",
      "| time/              |          |\n",
      "|    episodes        | 28       |\n",
      "|    fps             | 357      |\n",
      "|    time_elapsed    | 78       |\n",
      "|    total timesteps | 28000    |\n",
      "| train/             |          |\n",
      "|    actor_loss      | 27.3     |\n",
      "|    critic_loss     | 0.0387   |\n",
      "|    learning_rate   | 0.001    |\n",
      "|    n_updates       | 27000    |\n",
      "---------------------------------\n",
      "run number 4. 10000.0 timesteps\n",
      "Logging to logs/tensorboard/ddpg_cheetah_vel5_rs/run4_0\n",
      "---------------------------------\n",
      "| rollout/           |          |\n",
      "|    ep_len_mean     | 1e+03    |\n",
      "|    ep_rew_mean     | -590     |\n",
      "| time/              |          |\n",
      "|    episodes        | 32       |\n",
      "|    fps             | 2750     |\n",
      "|    time_elapsed    | 11       |\n",
      "|    total timesteps | 32000    |\n",
      "| train/             |          |\n",
      "|    actor_loss      | 30.3     |\n",
      "|    critic_loss     | 0.0361   |\n",
      "|    learning_rate   | 0.001    |\n",
      "|    n_updates       | 31000    |\n",
      "---------------------------------\n",
      "---------------------------------\n",
      "| rollout/           |          |\n",
      "|    ep_len_mean     | 1e+03    |\n",
      "|    ep_rew_mean     | -590     |\n",
      "| time/              |          |\n",
      "|    episodes        | 36       |\n",
      "|    fps             | 647      |\n",
      "|    time_elapsed    | 55       |\n",
      "|    total timesteps | 36000    |\n",
      "| train/             |          |\n",
      "|    actor_loss      | 33.2     |\n",
      "|    critic_loss     | 0.0323   |\n",
      "|    learning_rate   | 0.001    |\n",
      "|    n_updates       | 35000    |\n",
      "---------------------------------\n",
      "---------------------------------\n",
      "| rollout/           |          |\n",
      "|    ep_len_mean     | 1e+03    |\n",
      "|    ep_rew_mean     | -590     |\n",
      "| time/              |          |\n",
      "|    episodes        | 40       |\n",
      "|    fps             | 402      |\n",
      "|    time_elapsed    | 99       |\n",
      "|    total timesteps | 40000    |\n",
      "| train/             |          |\n",
      "|    actor_loss      | 36.2     |\n",
      "|    critic_loss     | 0.0291   |\n",
      "|    learning_rate   | 0.001    |\n",
      "|    n_updates       | 39000    |\n",
      "---------------------------------\n"
     ]
    }
   ],
   "source": [
    "model_vel5_rs = get_ddpg_trained_model('ddpg_cheetah_vel5_rs',\n",
    "                                       'MlpPolicy',\n",
    "                                       fixed_vel_env_rs,\n",
    "                                       timesteps=[1e4] * 4)  # 4 rounds of 10,000"
   ]
  },
  {
   "cell_type": "code",
   "execution_count": 21,
   "metadata": {},
   "outputs": [
    {
     "data": {
      "text/html": [
       "\n",
       "      <iframe id=\"tensorboard-frame-3e2cb8694f0411d9\" width=\"100%\" height=\"800\" frameborder=\"0\">\n",
       "      </iframe>\n",
       "      <script>\n",
       "        (function() {\n",
       "          const frame = document.getElementById(\"tensorboard-frame-3e2cb8694f0411d9\");\n",
       "          const url = new URL(\"/\", window.location);\n",
       "          const port = 6008;\n",
       "          if (port) {\n",
       "            url.port = port;\n",
       "          }\n",
       "          frame.src = url;\n",
       "        })();\n",
       "      </script>\n",
       "    "
      ],
      "text/plain": [
       "<IPython.core.display.HTML object>"
      ]
     },
     "metadata": {},
     "output_type": "display_data"
    }
   ],
   "source": [
    "%tensorboard --logdir ./logs/tensorboard/ddpg_cheetah_vel5_rs"
   ]
  },
  {
   "cell_type": "code",
   "execution_count": 25,
   "metadata": {},
   "outputs": [],
   "source": [
    "animate_env(fixed_vel_env_rs)"
   ]
  },
  {
   "cell_type": "markdown",
   "metadata": {},
   "source": [
    "## With RM as graph input"
   ]
  },
  {
   "cell_type": "code",
   "execution_count": 26,
   "metadata": {},
   "outputs": [],
   "source": [
    "fixed_vel_env_rs_graph_input = RMEnvWrapper(fixed_vel_env, rm_fn,\n",
    "                                            rm_observations=True,\n",
    "                                            change_rms_on_reset=False)"
   ]
  },
  {
   "cell_type": "code",
   "execution_count": 27,
   "metadata": {},
   "outputs": [
    {
     "name": "stdout",
     "output_type": "stream",
     "text": [
      "Using cpu device\n",
      "Wrapping the env with a `Monitor` wrapper\n",
      "Wrapping the env in a DummyVecEnv.\n",
      "Logging to ./ddpg_cheetah_vel5.0_rs_gnn_tensorboard/run_1_0\n",
      "---------------------------------\n",
      "| rollout/           |          |\n",
      "|    ep_len_mean     | 1e+03    |\n",
      "|    ep_rew_mean     | -590     |\n",
      "| time/              |          |\n",
      "|    episodes        | 4        |\n",
      "|    fps             | 95       |\n",
      "|    time_elapsed    | 42       |\n",
      "|    total timesteps | 4000     |\n",
      "| train/             |          |\n",
      "|    actor_loss      | 5.09     |\n",
      "|    critic_loss     | 0.131    |\n",
      "|    learning_rate   | 0.001    |\n",
      "|    n_updates       | 3000     |\n",
      "---------------------------------\n",
      "---------------------------------\n",
      "| rollout/           |          |\n",
      "|    ep_len_mean     | 1e+03    |\n",
      "|    ep_rew_mean     | -590     |\n",
      "| time/              |          |\n",
      "|    episodes        | 8        |\n",
      "|    fps             | 83       |\n",
      "|    time_elapsed    | 95       |\n",
      "|    total timesteps | 8000     |\n",
      "| train/             |          |\n",
      "|    actor_loss      | 9.05     |\n",
      "|    critic_loss     | 0.302    |\n",
      "|    learning_rate   | 0.001    |\n",
      "|    n_updates       | 7000     |\n",
      "---------------------------------\n",
      "Logging to ./ddpg_cheetah_vel5.0_rs_gnn_tensorboard/run_2_0\n",
      "---------------------------------\n",
      "| rollout/           |          |\n",
      "|    ep_len_mean     | 1e+03    |\n",
      "|    ep_rew_mean     | -590     |\n",
      "| time/              |          |\n",
      "|    episodes        | 12       |\n",
      "|    fps             | 821      |\n",
      "|    time_elapsed    | 14       |\n",
      "|    total timesteps | 12000    |\n",
      "| train/             |          |\n",
      "|    actor_loss      | 9.29     |\n",
      "|    critic_loss     | 0.0767   |\n",
      "|    learning_rate   | 0.001    |\n",
      "|    n_updates       | 11000    |\n",
      "---------------------------------\n",
      "---------------------------------\n",
      "| rollout/           |          |\n",
      "|    ep_len_mean     | 1e+03    |\n",
      "|    ep_rew_mean     | -590     |\n",
      "| time/              |          |\n",
      "|    episodes        | 16       |\n",
      "|    fps             | 233      |\n",
      "|    time_elapsed    | 68       |\n",
      "|    total timesteps | 16000    |\n",
      "| train/             |          |\n",
      "|    actor_loss      | 16.5     |\n",
      "|    critic_loss     | 0.415    |\n",
      "|    learning_rate   | 0.001    |\n",
      "|    n_updates       | 15000    |\n",
      "---------------------------------\n",
      "---------------------------------\n",
      "| rollout/           |          |\n",
      "|    ep_len_mean     | 1e+03    |\n",
      "|    ep_rew_mean     | -590     |\n",
      "| time/              |          |\n",
      "|    episodes        | 20       |\n",
      "|    fps             | 162      |\n",
      "|    time_elapsed    | 122      |\n",
      "|    total timesteps | 20000    |\n",
      "| train/             |          |\n",
      "|    actor_loss      | 22.7     |\n",
      "|    critic_loss     | 0.709    |\n",
      "|    learning_rate   | 0.001    |\n",
      "|    n_updates       | 19000    |\n",
      "---------------------------------\n",
      "Logging to ./ddpg_cheetah_vel5.0_rs_gnn_tensorboard/run_3_0\n",
      "---------------------------------\n",
      "| rollout/           |          |\n",
      "|    ep_len_mean     | 1e+03    |\n",
      "|    ep_rew_mean     | -590     |\n",
      "| time/              |          |\n",
      "|    episodes        | 24       |\n",
      "|    fps             | 572      |\n",
      "|    time_elapsed    | 41       |\n",
      "|    total timesteps | 24000    |\n",
      "| train/             |          |\n",
      "|    actor_loss      | 27.7     |\n",
      "|    critic_loss     | 0.748    |\n",
      "|    learning_rate   | 0.001    |\n",
      "|    n_updates       | 23000    |\n",
      "---------------------------------\n",
      "---------------------------------\n",
      "| rollout/           |          |\n",
      "|    ep_len_mean     | 1e+03    |\n",
      "|    ep_rew_mean     | -590     |\n",
      "| time/              |          |\n",
      "|    episodes        | 28       |\n",
      "|    fps             | 287      |\n",
      "|    time_elapsed    | 97       |\n",
      "|    total timesteps | 28000    |\n",
      "| train/             |          |\n",
      "|    actor_loss      | 30.3     |\n",
      "|    critic_loss     | 0.225    |\n",
      "|    learning_rate   | 0.001    |\n",
      "|    n_updates       | 27000    |\n",
      "---------------------------------\n",
      "Logging to ./ddpg_cheetah_vel5.0_rs_gnn_tensorboard/run_4_0\n",
      "---------------------------------\n",
      "| rollout/           |          |\n",
      "|    ep_len_mean     | 1e+03    |\n",
      "|    ep_rew_mean     | -590     |\n",
      "| time/              |          |\n",
      "|    episodes        | 32       |\n",
      "|    fps             | 2166     |\n",
      "|    time_elapsed    | 14       |\n",
      "|    total timesteps | 32000    |\n",
      "| train/             |          |\n",
      "|    actor_loss      | 33.7     |\n",
      "|    critic_loss     | 0.939    |\n",
      "|    learning_rate   | 0.001    |\n",
      "|    n_updates       | 31000    |\n",
      "---------------------------------\n",
      "---------------------------------\n",
      "| rollout/           |          |\n",
      "|    ep_len_mean     | 1e+03    |\n",
      "|    ep_rew_mean     | -590     |\n",
      "| time/              |          |\n",
      "|    episodes        | 36       |\n",
      "|    fps             | 520      |\n",
      "|    time_elapsed    | 69       |\n",
      "|    total timesteps | 36000    |\n",
      "| train/             |          |\n",
      "|    actor_loss      | 35.8     |\n",
      "|    critic_loss     | 0.433    |\n",
      "|    learning_rate   | 0.001    |\n",
      "|    n_updates       | 35000    |\n",
      "---------------------------------\n",
      "---------------------------------\n",
      "| rollout/           |          |\n",
      "|    ep_len_mean     | 1e+03    |\n",
      "|    ep_rew_mean     | -590     |\n",
      "| time/              |          |\n",
      "|    episodes        | 40       |\n",
      "|    fps             | 323      |\n",
      "|    time_elapsed    | 123      |\n",
      "|    total timesteps | 40000    |\n",
      "| train/             |          |\n",
      "|    actor_loss      | 39.1     |\n",
      "|    critic_loss     | 2.11     |\n",
      "|    learning_rate   | 0.001    |\n",
      "|    n_updates       | 39000    |\n",
      "---------------------------------\n"
     ]
    },
    {
     "data": {
      "text/plain": [
       "<stable_baselines3.ddpg.ddpg.DDPG at 0x12cded850>"
      ]
     },
     "execution_count": 27,
     "metadata": {},
     "output_type": "execute_result"
    }
   ],
   "source": [
    "## TODO support policy_kwargs in \"get_ddpg_trained_model\" function\n",
    "policy_kwargs = dict(\n",
    "    features_extractor_class=RMFeatureExtractorSB\n",
    ")\n",
    "\n",
    "model_vel_rs_gnn = DDPG('MultiInputPolicy',\n",
    "                        fixed_vel_env_rs_graph_input,\n",
    "                        verbose=1,\n",
    "                        tensorboard_log=\"./ddpg_cheetah_vel5.0_rs_gnn_tensorboard/\",\n",
    "                        policy_kwargs=policy_kwargs,\n",
    "                        batch_size=1)\n",
    "model_vel_rs_gnn.learn(total_timesteps=10_000, tb_log_name=\"run_1\", reset_num_timesteps=False)\n",
    "model_vel_rs_gnn.learn(total_timesteps=10_000, tb_log_name=\"run_2\", reset_num_timesteps=False)\n",
    "model_vel_rs_gnn.learn(total_timesteps=10_000, tb_log_name=\"run_3\", reset_num_timesteps=False)\n",
    "model_vel_rs_gnn.learn(total_timesteps=10_000, tb_log_name=\"run_4\", reset_num_timesteps=False)"
   ]
  },
  {
   "cell_type": "code",
   "execution_count": 28,
   "metadata": {},
   "outputs": [
    {
     "data": {
      "text/html": [
       "\n",
       "      <iframe id=\"tensorboard-frame-c159c4a8515af663\" width=\"100%\" height=\"800\" frameborder=\"0\">\n",
       "      </iframe>\n",
       "      <script>\n",
       "        (function() {\n",
       "          const frame = document.getElementById(\"tensorboard-frame-c159c4a8515af663\");\n",
       "          const url = new URL(\"/\", window.location);\n",
       "          const port = 6009;\n",
       "          if (port) {\n",
       "            url.port = port;\n",
       "          }\n",
       "          frame.src = url;\n",
       "        })();\n",
       "      </script>\n",
       "    "
      ],
      "text/plain": [
       "<IPython.core.display.HTML object>"
      ]
     },
     "metadata": {},
     "output_type": "display_data"
    }
   ],
   "source": [
    "%tensorboard --logdir ./ddpg_cheetah_vel5.0_rs_gnn_tensorboard/"
   ]
  },
  {
   "cell_type": "code",
   "execution_count": 30,
   "metadata": {},
   "outputs": [],
   "source": [
    "animate_env(fixed_vel_env_rs_graph_input)"
   ]
  }
 ],
 "metadata": {
  "kernelspec": {
   "display_name": "Python 3 (ipykernel)",
   "language": "python",
   "name": "python3"
  },
  "language_info": {
   "codemirror_mode": {
    "name": "ipython",
    "version": 3
   },
   "file_extension": ".py",
   "mimetype": "text/x-python",
   "name": "python",
   "nbconvert_exporter": "python",
   "pygments_lexer": "ipython3",
   "version": "3.9.13"
  }
 },
 "nbformat": 4,
 "nbformat_minor": 4
}
